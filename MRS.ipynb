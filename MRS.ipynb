{
 "cells": [
  {
   "cell_type": "markdown",
   "metadata": {},
   "source": [
    "# Movie recomendation system\n",
    "This notebook was written as a part of an evaluation assignment for Styria from September 30th to October 16th 2017 in Zagreb, Croatia by Ivan Pandžić. The evaluation assignment consists of four parts:\n",
    "1. Exploring the MovieLens 20M Dataset and specifying interesting findings about it.\n",
    "2. Developing a software solution, using Python 3, which will be able to suggest to users which movies to watch based on their ratings of previously watched movies. \n",
    "3. Evaluating the software solution described in (2.).\n",
    "4. Presenting the software solution in a suitable form (for instance, an ipynb).\n",
    "\n",
    "In solving these tasks, I used numpy, pandas, matplotlib, seaborn and scikit-learn."
   ]
  },
  {
   "cell_type": "code",
   "execution_count": 3,
   "metadata": {
    "collapsed": true
   },
   "outputs": [],
   "source": [
    "import re\n",
    "from collections import Counter\n",
    "import numpy as np\n",
    "import pandas as pd\n",
    "pd.options.mode.chained_assignment = None\n",
    "import matplotlib.pyplot as plt\n",
    "%matplotlib inline\n",
    "import seaborn as sns\n",
    "sns.set_style(\"darkgrid\")\n",
    "from math import sqrt\n",
    "from sklearn.metrics import mean_squared_error\n",
    "from sklearn.metrics.pairwise import pairwise_distances\n",
    "from sklearn.model_selection import train_test_split"
   ]
  },
  {
   "cell_type": "markdown",
   "metadata": {
    "collapsed": true
   },
   "source": [
    "## 1. Exploring the MovieLens 20M Dataset\n",
    "\n",
    "\n",
    "The MovieLens 20M Dataset describes 5-star rating and free-text tagging activity from [MovieLens](http://movielens.org), a movie recommendation service. It contains 20000263 ratings and 465564 tag applications across 27278 movies.\n",
    "\n",
    "In order to explore the the MovieLens 20M Dataset, we first load the six csv files from the ml-20m folder (`genome-scores.csv`, `genome-tags.csv`, `links.csv`, `movies.csv`, `ratings.csv` and `tags.csv`) and convert them into DataFrames using pandas."
   ]
  },
  {
   "cell_type": "code",
   "execution_count": 22,
   "metadata": {},
   "outputs": [
    {
     "name": "stdout",
     "output_type": "stream",
     "text": [
      "(27278, 3)\n"
     ]
    },
    {
     "data": {
      "text/html": [
       "<div>\n",
       "<style>\n",
       "    .dataframe thead tr:only-child th {\n",
       "        text-align: right;\n",
       "    }\n",
       "\n",
       "    .dataframe thead th {\n",
       "        text-align: left;\n",
       "    }\n",
       "\n",
       "    .dataframe tbody tr th {\n",
       "        vertical-align: top;\n",
       "    }\n",
       "</style>\n",
       "<table border=\"1\" class=\"dataframe\">\n",
       "  <thead>\n",
       "    <tr style=\"text-align: right;\">\n",
       "      <th></th>\n",
       "      <th>movieId</th>\n",
       "      <th>title</th>\n",
       "      <th>genres</th>\n",
       "    </tr>\n",
       "  </thead>\n",
       "  <tbody>\n",
       "    <tr>\n",
       "      <th>0</th>\n",
       "      <td>1</td>\n",
       "      <td>Toy Story (1995)</td>\n",
       "      <td>Adventure|Animation|Children|Comedy|Fantasy</td>\n",
       "    </tr>\n",
       "    <tr>\n",
       "      <th>1</th>\n",
       "      <td>2</td>\n",
       "      <td>Jumanji (1995)</td>\n",
       "      <td>Adventure|Children|Fantasy</td>\n",
       "    </tr>\n",
       "    <tr>\n",
       "      <th>2</th>\n",
       "      <td>3</td>\n",
       "      <td>Grumpier Old Men (1995)</td>\n",
       "      <td>Comedy|Romance</td>\n",
       "    </tr>\n",
       "    <tr>\n",
       "      <th>3</th>\n",
       "      <td>4</td>\n",
       "      <td>Waiting to Exhale (1995)</td>\n",
       "      <td>Comedy|Drama|Romance</td>\n",
       "    </tr>\n",
       "    <tr>\n",
       "      <th>4</th>\n",
       "      <td>5</td>\n",
       "      <td>Father of the Bride Part II (1995)</td>\n",
       "      <td>Comedy</td>\n",
       "    </tr>\n",
       "  </tbody>\n",
       "</table>\n",
       "</div>"
      ],
      "text/plain": [
       "   movieId                               title  \\\n",
       "0        1                    Toy Story (1995)   \n",
       "1        2                      Jumanji (1995)   \n",
       "2        3             Grumpier Old Men (1995)   \n",
       "3        4            Waiting to Exhale (1995)   \n",
       "4        5  Father of the Bride Part II (1995)   \n",
       "\n",
       "                                        genres  \n",
       "0  Adventure|Animation|Children|Comedy|Fantasy  \n",
       "1                   Adventure|Children|Fantasy  \n",
       "2                               Comedy|Romance  \n",
       "3                         Comedy|Drama|Romance  \n",
       "4                                       Comedy  "
      ]
     },
     "execution_count": 22,
     "metadata": {},
     "output_type": "execute_result"
    }
   ],
   "source": [
    "movies = pd.read_csv('ml-20m/movies.csv')\n",
    "print(movies.shape)\n",
    "movies.head()"
   ]
  },
  {
   "cell_type": "markdown",
   "metadata": {},
   "source": [
    "The **movies** dataframe has 27278 rows and three columns labeled **movieId**, **title** and **genres**. In order to make the dataframe more usable, we add seperate columns for each genre and delete the **genres** column which we do not need anymore. We also delete the newly created **(no genres listed)** column, which doesn't seem useful."
   ]
  },
  {
   "cell_type": "code",
   "execution_count": 23,
   "metadata": {},
   "outputs": [
    {
     "name": "stdout",
     "output_type": "stream",
     "text": [
      "(27278, 21)\n"
     ]
    },
    {
     "data": {
      "text/html": [
       "<div>\n",
       "<style>\n",
       "    .dataframe thead tr:only-child th {\n",
       "        text-align: right;\n",
       "    }\n",
       "\n",
       "    .dataframe thead th {\n",
       "        text-align: left;\n",
       "    }\n",
       "\n",
       "    .dataframe tbody tr th {\n",
       "        vertical-align: top;\n",
       "    }\n",
       "</style>\n",
       "<table border=\"1\" class=\"dataframe\">\n",
       "  <thead>\n",
       "    <tr style=\"text-align: right;\">\n",
       "      <th></th>\n",
       "      <th>movieId</th>\n",
       "      <th>title</th>\n",
       "      <th>Action</th>\n",
       "      <th>Adventure</th>\n",
       "      <th>Animation</th>\n",
       "      <th>Children</th>\n",
       "      <th>Comedy</th>\n",
       "      <th>Crime</th>\n",
       "      <th>Documentary</th>\n",
       "      <th>Drama</th>\n",
       "      <th>...</th>\n",
       "      <th>Film-Noir</th>\n",
       "      <th>Horror</th>\n",
       "      <th>IMAX</th>\n",
       "      <th>Musical</th>\n",
       "      <th>Mystery</th>\n",
       "      <th>Romance</th>\n",
       "      <th>Sci-Fi</th>\n",
       "      <th>Thriller</th>\n",
       "      <th>War</th>\n",
       "      <th>Western</th>\n",
       "    </tr>\n",
       "  </thead>\n",
       "  <tbody>\n",
       "    <tr>\n",
       "      <th>0</th>\n",
       "      <td>1</td>\n",
       "      <td>Toy Story (1995)</td>\n",
       "      <td>0</td>\n",
       "      <td>1</td>\n",
       "      <td>1</td>\n",
       "      <td>1</td>\n",
       "      <td>1</td>\n",
       "      <td>0</td>\n",
       "      <td>0</td>\n",
       "      <td>0</td>\n",
       "      <td>...</td>\n",
       "      <td>0</td>\n",
       "      <td>0</td>\n",
       "      <td>0</td>\n",
       "      <td>0</td>\n",
       "      <td>0</td>\n",
       "      <td>0</td>\n",
       "      <td>0</td>\n",
       "      <td>0</td>\n",
       "      <td>0</td>\n",
       "      <td>0</td>\n",
       "    </tr>\n",
       "    <tr>\n",
       "      <th>1</th>\n",
       "      <td>2</td>\n",
       "      <td>Jumanji (1995)</td>\n",
       "      <td>0</td>\n",
       "      <td>1</td>\n",
       "      <td>0</td>\n",
       "      <td>1</td>\n",
       "      <td>0</td>\n",
       "      <td>0</td>\n",
       "      <td>0</td>\n",
       "      <td>0</td>\n",
       "      <td>...</td>\n",
       "      <td>0</td>\n",
       "      <td>0</td>\n",
       "      <td>0</td>\n",
       "      <td>0</td>\n",
       "      <td>0</td>\n",
       "      <td>0</td>\n",
       "      <td>0</td>\n",
       "      <td>0</td>\n",
       "      <td>0</td>\n",
       "      <td>0</td>\n",
       "    </tr>\n",
       "    <tr>\n",
       "      <th>2</th>\n",
       "      <td>3</td>\n",
       "      <td>Grumpier Old Men (1995)</td>\n",
       "      <td>0</td>\n",
       "      <td>0</td>\n",
       "      <td>0</td>\n",
       "      <td>0</td>\n",
       "      <td>1</td>\n",
       "      <td>0</td>\n",
       "      <td>0</td>\n",
       "      <td>0</td>\n",
       "      <td>...</td>\n",
       "      <td>0</td>\n",
       "      <td>0</td>\n",
       "      <td>0</td>\n",
       "      <td>0</td>\n",
       "      <td>0</td>\n",
       "      <td>1</td>\n",
       "      <td>0</td>\n",
       "      <td>0</td>\n",
       "      <td>0</td>\n",
       "      <td>0</td>\n",
       "    </tr>\n",
       "    <tr>\n",
       "      <th>3</th>\n",
       "      <td>4</td>\n",
       "      <td>Waiting to Exhale (1995)</td>\n",
       "      <td>0</td>\n",
       "      <td>0</td>\n",
       "      <td>0</td>\n",
       "      <td>0</td>\n",
       "      <td>1</td>\n",
       "      <td>0</td>\n",
       "      <td>0</td>\n",
       "      <td>1</td>\n",
       "      <td>...</td>\n",
       "      <td>0</td>\n",
       "      <td>0</td>\n",
       "      <td>0</td>\n",
       "      <td>0</td>\n",
       "      <td>0</td>\n",
       "      <td>1</td>\n",
       "      <td>0</td>\n",
       "      <td>0</td>\n",
       "      <td>0</td>\n",
       "      <td>0</td>\n",
       "    </tr>\n",
       "    <tr>\n",
       "      <th>4</th>\n",
       "      <td>5</td>\n",
       "      <td>Father of the Bride Part II (1995)</td>\n",
       "      <td>0</td>\n",
       "      <td>0</td>\n",
       "      <td>0</td>\n",
       "      <td>0</td>\n",
       "      <td>1</td>\n",
       "      <td>0</td>\n",
       "      <td>0</td>\n",
       "      <td>0</td>\n",
       "      <td>...</td>\n",
       "      <td>0</td>\n",
       "      <td>0</td>\n",
       "      <td>0</td>\n",
       "      <td>0</td>\n",
       "      <td>0</td>\n",
       "      <td>0</td>\n",
       "      <td>0</td>\n",
       "      <td>0</td>\n",
       "      <td>0</td>\n",
       "      <td>0</td>\n",
       "    </tr>\n",
       "  </tbody>\n",
       "</table>\n",
       "<p>5 rows × 21 columns</p>\n",
       "</div>"
      ],
      "text/plain": [
       "   movieId                               title  Action  Adventure  Animation  \\\n",
       "0        1                    Toy Story (1995)       0          1          1   \n",
       "1        2                      Jumanji (1995)       0          1          0   \n",
       "2        3             Grumpier Old Men (1995)       0          0          0   \n",
       "3        4            Waiting to Exhale (1995)       0          0          0   \n",
       "4        5  Father of the Bride Part II (1995)       0          0          0   \n",
       "\n",
       "   Children  Comedy  Crime  Documentary  Drama   ...     Film-Noir  Horror  \\\n",
       "0         1       1      0            0      0   ...             0       0   \n",
       "1         1       0      0            0      0   ...             0       0   \n",
       "2         0       1      0            0      0   ...             0       0   \n",
       "3         0       1      0            0      1   ...             0       0   \n",
       "4         0       1      0            0      0   ...             0       0   \n",
       "\n",
       "   IMAX  Musical  Mystery  Romance  Sci-Fi  Thriller  War  Western  \n",
       "0     0        0        0        0       0         0    0        0  \n",
       "1     0        0        0        0       0         0    0        0  \n",
       "2     0        0        0        1       0         0    0        0  \n",
       "3     0        0        0        1       0         0    0        0  \n",
       "4     0        0        0        0       0         0    0        0  \n",
       "\n",
       "[5 rows x 21 columns]"
      ]
     },
     "execution_count": 23,
     "metadata": {},
     "output_type": "execute_result"
    }
   ],
   "source": [
    "movies = pd.concat([movies, movies.genres.str.get_dummies(sep='|')], axis=1)\n",
    "del movies[\"genres\"]\n",
    "del movies[\"(no genres listed)\"]\n",
    "print(movies.shape)\n",
    "movies.head()"
   ]
  },
  {
   "cell_type": "markdown",
   "metadata": {},
   "source": [
    "The **movies** dataframe now has 21 columns instead of three: **movieId**, **title**, **Action**, **Adventure**, **Animation**, **Children**, **Comedy**, **Crime**, **Documentary**, **Drama**, **Fantasy**, **Film-Noir**, **Horror**, **IMAX**, **Musical**, **Mystery**, **Romance**, **Sci-Fi**, **Thriller**, **War** and **Western**."
   ]
  },
  {
   "cell_type": "markdown",
   "metadata": {},
   "source": [
    "We create a year list (**year_list**) in order to plot a year distribution bar chart."
   ]
  },
  {
   "cell_type": "code",
   "execution_count": 31,
   "metadata": {},
   "outputs": [
    {
     "data": {
      "text/plain": [
       "<matplotlib.axes._subplots.AxesSubplot at 0xd43ad30>"
      ]
     },
     "execution_count": 31,
     "metadata": {},
     "output_type": "execute_result"
    },
    {
     "data": {
      "image/png": "[encoded data removed]",
      "text/plain": [
       "<matplotlib.figure.Figure at 0xb9ece48>"
      ]
     },
     "metadata": {},
     "output_type": "display_data"
    }
   ],
   "source": [
    "year_list = []\n",
    "for row in movies[\"title\"]:\n",
    "    x = re.search(r\"\\(\\d{4}\\)\", row)\n",
    "    if x:\n",
    "        y = x.group(0)\n",
    "    year_list.append(y[1:-1])\n",
    "\n",
    "year_count = Counter(year_list)\n",
    "year_count_30 = year_count .most_common(20)\n",
    "year_dict = dict(year_count_30)\n",
    "year_df = pd.DataFrame(year_dict, index=[0])\n",
    "\n",
    "year_row = year_df.iloc[-1]\n",
    "plt.title(\"Movie release year distribution\")\n",
    "plt.xlabel(\"Year\")\n",
    "plt.ylabel(\"Number of occurrences\")\n",
    "year_row.plot(kind='bar')"
   ]
  },
  {
   "cell_type": "markdown",
   "metadata": {},
   "source": [
    "The data in MovieLens 20M was created between January 09, 1995 and March 31, 2015, so it is reasonable that movies released in 2015 are not represented in the top 20 of the Year distribution bar graph and that movies released prior to 1985 are not in the top 20 of the Year distribution bar graph."
   ]
  },
  {
   "cell_type": "code",
   "execution_count": 8,
   "metadata": {},
   "outputs": [
    {
     "data": {
      "text/html": [
       "<div>\n",
       "<style>\n",
       "    .dataframe thead tr:only-child th {\n",
       "        text-align: right;\n",
       "    }\n",
       "\n",
       "    .dataframe thead th {\n",
       "        text-align: left;\n",
       "    }\n",
       "\n",
       "    .dataframe tbody tr th {\n",
       "        vertical-align: top;\n",
       "    }\n",
       "</style>\n",
       "<table border=\"1\" class=\"dataframe\">\n",
       "  <thead>\n",
       "    <tr style=\"text-align: right;\">\n",
       "      <th></th>\n",
       "      <th>movieId</th>\n",
       "      <th>title</th>\n",
       "      <th>Action</th>\n",
       "      <th>Adventure</th>\n",
       "      <th>Animation</th>\n",
       "      <th>Children</th>\n",
       "      <th>Comedy</th>\n",
       "      <th>Crime</th>\n",
       "      <th>Documentary</th>\n",
       "      <th>Drama</th>\n",
       "      <th>...</th>\n",
       "      <th>Film-Noir</th>\n",
       "      <th>Horror</th>\n",
       "      <th>IMAX</th>\n",
       "      <th>Musical</th>\n",
       "      <th>Mystery</th>\n",
       "      <th>Romance</th>\n",
       "      <th>Sci-Fi</th>\n",
       "      <th>Thriller</th>\n",
       "      <th>War</th>\n",
       "      <th>Western</th>\n",
       "    </tr>\n",
       "  </thead>\n",
       "  <tbody>\n",
       "    <tr>\n",
       "      <th>27274</th>\n",
       "      <td>131256</td>\n",
       "      <td>Feuer, Eis &amp; Dosenbier (2002)</td>\n",
       "      <td>0.0</td>\n",
       "      <td>0.0</td>\n",
       "      <td>0.0</td>\n",
       "      <td>0.0</td>\n",
       "      <td>1.0</td>\n",
       "      <td>0.0</td>\n",
       "      <td>0.0</td>\n",
       "      <td>0.0</td>\n",
       "      <td>...</td>\n",
       "      <td>0.0</td>\n",
       "      <td>0.0</td>\n",
       "      <td>0.0</td>\n",
       "      <td>0.0</td>\n",
       "      <td>0.0</td>\n",
       "      <td>0.0</td>\n",
       "      <td>0.0</td>\n",
       "      <td>0.0</td>\n",
       "      <td>0.0</td>\n",
       "      <td>0.0</td>\n",
       "    </tr>\n",
       "    <tr>\n",
       "      <th>27275</th>\n",
       "      <td>131258</td>\n",
       "      <td>The Pirates (2014)</td>\n",
       "      <td>0.0</td>\n",
       "      <td>1.0</td>\n",
       "      <td>0.0</td>\n",
       "      <td>0.0</td>\n",
       "      <td>0.0</td>\n",
       "      <td>0.0</td>\n",
       "      <td>0.0</td>\n",
       "      <td>0.0</td>\n",
       "      <td>...</td>\n",
       "      <td>0.0</td>\n",
       "      <td>0.0</td>\n",
       "      <td>0.0</td>\n",
       "      <td>0.0</td>\n",
       "      <td>0.0</td>\n",
       "      <td>0.0</td>\n",
       "      <td>0.0</td>\n",
       "      <td>0.0</td>\n",
       "      <td>0.0</td>\n",
       "      <td>0.0</td>\n",
       "    </tr>\n",
       "    <tr>\n",
       "      <th>27276</th>\n",
       "      <td>131260</td>\n",
       "      <td>Rentun Ruusu (2001)</td>\n",
       "      <td>0.0</td>\n",
       "      <td>0.0</td>\n",
       "      <td>0.0</td>\n",
       "      <td>0.0</td>\n",
       "      <td>0.0</td>\n",
       "      <td>0.0</td>\n",
       "      <td>0.0</td>\n",
       "      <td>0.0</td>\n",
       "      <td>...</td>\n",
       "      <td>0.0</td>\n",
       "      <td>0.0</td>\n",
       "      <td>0.0</td>\n",
       "      <td>0.0</td>\n",
       "      <td>0.0</td>\n",
       "      <td>0.0</td>\n",
       "      <td>0.0</td>\n",
       "      <td>0.0</td>\n",
       "      <td>0.0</td>\n",
       "      <td>0.0</td>\n",
       "    </tr>\n",
       "    <tr>\n",
       "      <th>27277</th>\n",
       "      <td>131262</td>\n",
       "      <td>Innocence (2014)</td>\n",
       "      <td>0.0</td>\n",
       "      <td>1.0</td>\n",
       "      <td>0.0</td>\n",
       "      <td>0.0</td>\n",
       "      <td>0.0</td>\n",
       "      <td>0.0</td>\n",
       "      <td>0.0</td>\n",
       "      <td>0.0</td>\n",
       "      <td>...</td>\n",
       "      <td>0.0</td>\n",
       "      <td>1.0</td>\n",
       "      <td>0.0</td>\n",
       "      <td>0.0</td>\n",
       "      <td>0.0</td>\n",
       "      <td>0.0</td>\n",
       "      <td>0.0</td>\n",
       "      <td>0.0</td>\n",
       "      <td>0.0</td>\n",
       "      <td>0.0</td>\n",
       "    </tr>\n",
       "    <tr>\n",
       "      <th>Total</th>\n",
       "      <td>None</td>\n",
       "      <td>NaN</td>\n",
       "      <td>3520.0</td>\n",
       "      <td>2329.0</td>\n",
       "      <td>1027.0</td>\n",
       "      <td>1139.0</td>\n",
       "      <td>8374.0</td>\n",
       "      <td>2939.0</td>\n",
       "      <td>2471.0</td>\n",
       "      <td>13344.0</td>\n",
       "      <td>...</td>\n",
       "      <td>330.0</td>\n",
       "      <td>2611.0</td>\n",
       "      <td>196.0</td>\n",
       "      <td>1036.0</td>\n",
       "      <td>1514.0</td>\n",
       "      <td>4127.0</td>\n",
       "      <td>1743.0</td>\n",
       "      <td>4178.0</td>\n",
       "      <td>1194.0</td>\n",
       "      <td>676.0</td>\n",
       "    </tr>\n",
       "  </tbody>\n",
       "</table>\n",
       "<p>5 rows × 21 columns</p>\n",
       "</div>"
      ],
      "text/plain": [
       "      movieId                          title  Action  Adventure  Animation  \\\n",
       "27274  131256  Feuer, Eis & Dosenbier (2002)     0.0        0.0        0.0   \n",
       "27275  131258             The Pirates (2014)     0.0        1.0        0.0   \n",
       "27276  131260            Rentun Ruusu (2001)     0.0        0.0        0.0   \n",
       "27277  131262               Innocence (2014)     0.0        1.0        0.0   \n",
       "Total    None                            NaN  3520.0     2329.0     1027.0   \n",
       "\n",
       "       Children  Comedy   Crime  Documentary    Drama   ...     Film-Noir  \\\n",
       "27274       0.0     1.0     0.0          0.0      0.0   ...           0.0   \n",
       "27275       0.0     0.0     0.0          0.0      0.0   ...           0.0   \n",
       "27276       0.0     0.0     0.0          0.0      0.0   ...           0.0   \n",
       "27277       0.0     0.0     0.0          0.0      0.0   ...           0.0   \n",
       "Total    1139.0  8374.0  2939.0       2471.0  13344.0   ...         330.0   \n",
       "\n",
       "       Horror   IMAX  Musical  Mystery  Romance  Sci-Fi  Thriller     War  \\\n",
       "27274     0.0    0.0      0.0      0.0      0.0     0.0       0.0     0.0   \n",
       "27275     0.0    0.0      0.0      0.0      0.0     0.0       0.0     0.0   \n",
       "27276     0.0    0.0      0.0      0.0      0.0     0.0       0.0     0.0   \n",
       "27277     1.0    0.0      0.0      0.0      0.0     0.0       0.0     0.0   \n",
       "Total  2611.0  196.0   1036.0   1514.0   4127.0  1743.0    4178.0  1194.0   \n",
       "\n",
       "       Western  \n",
       "27274      0.0  \n",
       "27275      0.0  \n",
       "27276      0.0  \n",
       "27277      0.0  \n",
       "Total    676.0  \n",
       "\n",
       "[5 rows x 21 columns]"
      ]
     },
     "execution_count": 8,
     "metadata": {},
     "output_type": "execute_result"
    }
   ],
   "source": [
    "movies.loc[\"Total\"] = movies.sum(numeric_only=True)\n",
    "movies.iloc[-1, movies.columns.get_loc('movieId')] = \"None\"\n",
    "movies.tail()"
   ]
  },
  {
   "cell_type": "markdown",
   "metadata": {},
   "source": [
    "We calculate a total of different genres for the entire **movies** dataframe in order to create a Genre distribution bar chart."
   ]
  },
  {
   "cell_type": "code",
   "execution_count": 9,
   "metadata": {},
   "outputs": [
    {
     "data": {
      "text/plain": [
       "<matplotlib.axes._subplots.AxesSubplot at 0xba6eb38>"
      ]
     },
     "execution_count": 9,
     "metadata": {},
     "output_type": "execute_result"
    },
    {
     "data": {
      "image/png": "[encoded data removed]",
      "text/plain": [
       "<matplotlib.figure.Figure at 0xbea6cf8>"
      ]
     },
     "metadata": {},
     "output_type": "display_data"
    }
   ],
   "source": [
    "total_row = movies.iloc[-1]\n",
    "total_row = total_row.drop(['movieId', 'title'])\n",
    "plt.xlabel(\"Movie genres\")\n",
    "plt.ylabel(\"Number of occurrences\")\n",
    "plt.title(\"Genre distribution\")\n",
    "total_row.plot(kind='bar')"
   ]
  },
  {
   "cell_type": "markdown",
   "metadata": {
    "collapsed": true
   },
   "source": [
    "As we can see from the bar chart, **Drama**, **Comedy**, **Thriller**, **Romance** and **Action** are the five most frequent genres in the MovieLens 20M dataset."
   ]
  },
  {
   "cell_type": "code",
   "execution_count": 32,
   "metadata": {},
   "outputs": [
    {
     "name": "stdout",
     "output_type": "stream",
     "text": [
      "(20000263, 4)\n"
     ]
    },
    {
     "data": {
      "text/html": [
       "<div>\n",
       "<style>\n",
       "    .dataframe thead tr:only-child th {\n",
       "        text-align: right;\n",
       "    }\n",
       "\n",
       "    .dataframe thead th {\n",
       "        text-align: left;\n",
       "    }\n",
       "\n",
       "    .dataframe tbody tr th {\n",
       "        vertical-align: top;\n",
       "    }\n",
       "</style>\n",
       "<table border=\"1\" class=\"dataframe\">\n",
       "  <thead>\n",
       "    <tr style=\"text-align: right;\">\n",
       "      <th></th>\n",
       "      <th>userId</th>\n",
       "      <th>movieId</th>\n",
       "      <th>rating</th>\n",
       "      <th>timestamp</th>\n",
       "    </tr>\n",
       "  </thead>\n",
       "  <tbody>\n",
       "    <tr>\n",
       "      <th>0</th>\n",
       "      <td>1</td>\n",
       "      <td>2</td>\n",
       "      <td>3.5</td>\n",
       "      <td>1112486027</td>\n",
       "    </tr>\n",
       "    <tr>\n",
       "      <th>1</th>\n",
       "      <td>1</td>\n",
       "      <td>29</td>\n",
       "      <td>3.5</td>\n",
       "      <td>1112484676</td>\n",
       "    </tr>\n",
       "    <tr>\n",
       "      <th>2</th>\n",
       "      <td>1</td>\n",
       "      <td>32</td>\n",
       "      <td>3.5</td>\n",
       "      <td>1112484819</td>\n",
       "    </tr>\n",
       "    <tr>\n",
       "      <th>3</th>\n",
       "      <td>1</td>\n",
       "      <td>47</td>\n",
       "      <td>3.5</td>\n",
       "      <td>1112484727</td>\n",
       "    </tr>\n",
       "    <tr>\n",
       "      <th>4</th>\n",
       "      <td>1</td>\n",
       "      <td>50</td>\n",
       "      <td>3.5</td>\n",
       "      <td>1112484580</td>\n",
       "    </tr>\n",
       "  </tbody>\n",
       "</table>\n",
       "</div>"
      ],
      "text/plain": [
       "   userId  movieId  rating   timestamp\n",
       "0       1        2     3.5  1112486027\n",
       "1       1       29     3.5  1112484676\n",
       "2       1       32     3.5  1112484819\n",
       "3       1       47     3.5  1112484727\n",
       "4       1       50     3.5  1112484580"
      ]
     },
     "execution_count": 32,
     "metadata": {},
     "output_type": "execute_result"
    }
   ],
   "source": [
    "ratings = pd.read_csv('ml-20m/ratings.csv')\n",
    "print(ratings.shape)\n",
    "ratings.head()"
   ]
  },
  {
   "cell_type": "code",
   "execution_count": 33,
   "metadata": {},
   "outputs": [
    {
     "name": "stdout",
     "output_type": "stream",
     "text": [
      "3.5255285642993797\n"
     ]
    }
   ],
   "source": [
    "ratings_mean = ratings[\"rating\"].mean()\n",
    "print(ratings_mean)"
   ]
  },
  {
   "cell_type": "markdown",
   "metadata": {},
   "source": [
    "The **ratings** dataframe has 20000263 rows and four columns labeled **userId**, **movieId**, **rating** and **timestamp**. The ratings mean is 3.526."
   ]
  },
  {
   "cell_type": "code",
   "execution_count": 44,
   "metadata": {},
   "outputs": [
    {
     "data": {
      "text/plain": [
       "<matplotlib.axes._subplots.AxesSubplot at 0xcb64c50>"
      ]
     },
     "execution_count": 44,
     "metadata": {},
     "output_type": "execute_result"
    },
    {
     "data": {
      "image/png": "[encoded data removed]",
      "text/plain": [
       "<matplotlib.figure.Figure at 0xcb99160>"
      ]
     },
     "metadata": {},
     "output_type": "display_data"
    }
   ],
   "source": [
    "ratings_list = ratings[\"rating\"].tolist()\n",
    "ratings_count = Counter(ratings_list)\n",
    "ratings_dict = dict(ratings_count)\n",
    "\n",
    "ratings_count_df = pd.DataFrame(ratings_dict, index=[0])\n",
    "\n",
    "ratings_row = ratings_count_df.iloc[-1]\n",
    "plt.title(\"Ratings distribution\")\n",
    "plt.xlabel(\"Rating value\")\n",
    "plt.ylabel(\"Number of occurrences\")\n",
    "ratings_row.plot(kind='bar')"
   ]
  },
  {
   "cell_type": "markdown",
   "metadata": {},
   "source": [
    "By merging the movies and ratings dataframe we can determine the top rated movies in MovieLens 20M."
   ]
  },
  {
   "cell_type": "code",
   "execution_count": 52,
   "metadata": {
    "collapsed": true
   },
   "outputs": [],
   "source": [
    "movie_data = pd.merge(movies, ratings)"
   ]
  },
  {
   "cell_type": "code",
   "execution_count": 65,
   "metadata": {},
   "outputs": [
    {
     "name": "stdout",
     "output_type": "stream",
     "text": [
      "Top rated movies in MovieLens 20M:\n",
      "\n"
     ]
    },
    {
     "data": {
      "text/plain": [
       "(None, title\n",
       " Pulp Fiction (1994)                                      67310\n",
       " Forrest Gump (1994)                                      66172\n",
       " Shawshank Redemption, The (1994)                         63366\n",
       " Silence of the Lambs, The (1991)                         63299\n",
       " Jurassic Park (1993)                                     59715\n",
       " Star Wars: Episode IV - A New Hope (1977)                54502\n",
       " Braveheart (1995)                                        53769\n",
       " Terminator 2: Judgment Day (1991)                        52244\n",
       " Matrix, The (1999)                                       51334\n",
       " Schindler's List (1993)                                  50054\n",
       " Toy Story (1995)                                         49695\n",
       " Fugitive, The (1993)                                     49581\n",
       " Apollo 13 (1995)                                         47777\n",
       " Independence Day (a.k.a. ID4) (1996)                     47048\n",
       " Usual Suspects, The (1995)                               47006\n",
       " Star Wars: Episode VI - Return of the Jedi (1983)        46839\n",
       " Batman (1989)                                            46054\n",
       " Star Wars: Episode V - The Empire Strikes Back (1980)    45313\n",
       " American Beauty (1999)                                   44987\n",
       " Twelve Monkeys (a.k.a. 12 Monkeys) (1995)                44980\n",
       " dtype: int64)"
      ]
     },
     "execution_count": 65,
     "metadata": {},
     "output_type": "execute_result"
    }
   ],
   "source": [
    "print(\"Top rated movies in MovieLens 20M:\\n\"), movie_data.groupby('title').size().sort_values(ascending=False)[:20]"
   ]
  },
  {
   "cell_type": "code",
   "execution_count": 45,
   "metadata": {},
   "outputs": [
    {
     "name": "stdout",
     "output_type": "stream",
     "text": [
      "(20000263, 4)\n"
     ]
    },
    {
     "data": {
      "text/html": [
       "<div>\n",
       "<style>\n",
       "    .dataframe thead tr:only-child th {\n",
       "        text-align: right;\n",
       "    }\n",
       "\n",
       "    .dataframe thead th {\n",
       "        text-align: left;\n",
       "    }\n",
       "\n",
       "    .dataframe tbody tr th {\n",
       "        vertical-align: top;\n",
       "    }\n",
       "</style>\n",
       "<table border=\"1\" class=\"dataframe\">\n",
       "  <thead>\n",
       "    <tr style=\"text-align: right;\">\n",
       "      <th></th>\n",
       "      <th>userId</th>\n",
       "      <th>movieId</th>\n",
       "      <th>tag</th>\n",
       "      <th>timestamp</th>\n",
       "    </tr>\n",
       "  </thead>\n",
       "  <tbody>\n",
       "    <tr>\n",
       "      <th>0</th>\n",
       "      <td>18</td>\n",
       "      <td>4141</td>\n",
       "      <td>Mark Waters</td>\n",
       "      <td>1240597180</td>\n",
       "    </tr>\n",
       "    <tr>\n",
       "      <th>1</th>\n",
       "      <td>65</td>\n",
       "      <td>208</td>\n",
       "      <td>dark hero</td>\n",
       "      <td>1368150078</td>\n",
       "    </tr>\n",
       "    <tr>\n",
       "      <th>2</th>\n",
       "      <td>65</td>\n",
       "      <td>353</td>\n",
       "      <td>dark hero</td>\n",
       "      <td>1368150079</td>\n",
       "    </tr>\n",
       "    <tr>\n",
       "      <th>3</th>\n",
       "      <td>65</td>\n",
       "      <td>521</td>\n",
       "      <td>noir thriller</td>\n",
       "      <td>1368149983</td>\n",
       "    </tr>\n",
       "    <tr>\n",
       "      <th>4</th>\n",
       "      <td>65</td>\n",
       "      <td>592</td>\n",
       "      <td>dark hero</td>\n",
       "      <td>1368150078</td>\n",
       "    </tr>\n",
       "  </tbody>\n",
       "</table>\n",
       "</div>"
      ],
      "text/plain": [
       "   userId  movieId            tag   timestamp\n",
       "0      18     4141    Mark Waters  1240597180\n",
       "1      65      208      dark hero  1368150078\n",
       "2      65      353      dark hero  1368150079\n",
       "3      65      521  noir thriller  1368149983\n",
       "4      65      592      dark hero  1368150078"
      ]
     },
     "execution_count": 45,
     "metadata": {},
     "output_type": "execute_result"
    }
   ],
   "source": [
    "tags = pd.read_csv('ml-20m/tags.csv')\n",
    "print(ratings.shape)\n",
    "tags.head()"
   ]
  },
  {
   "cell_type": "markdown",
   "metadata": {},
   "source": [
    "The **tags** dataframe has 20000263 rows and four columns labeled **userId**, **movieId**, **tag** and **timestamp**.\n",
    "We use the Counter module to calculate the 10 most frequent tags and create a bar plot"
   ]
  },
  {
   "cell_type": "code",
   "execution_count": 51,
   "metadata": {},
   "outputs": [
    {
     "data": {
      "text/plain": [
       "<matplotlib.axes._subplots.AxesSubplot at 0xccbd358>"
      ]
     },
     "execution_count": 51,
     "metadata": {},
     "output_type": "execute_result"
    },
    {
     "data": {
      "image/png": "[encoded data removed]",
      "text/plain": [
       "<matplotlib.figure.Figure at 0x3d3f72b0>"
      ]
     },
     "metadata": {},
     "output_type": "display_data"
    }
   ],
   "source": [
    "tags_list = tags[\"tag\"].tolist()\n",
    "tag_count = Counter(tags_list)\n",
    "tag_count_10 = tag_count.most_common(10)\n",
    "tag_10_dict = dict(tag_count_10)\n",
    "plt.rcParams[\"figure.figsize\"] = [10,5]\n",
    "\n",
    "df = pd.DataFrame(tag_10_dict, index=[0])\n",
    "df_row = df.iloc[-1]\n",
    "\n",
    "plt.title(\"The 10 most frequent tags in MovieLens 20M\")\n",
    "plt.xlabel(\"Tag names\")\n",
    "plt.ylabel(\"Number of occurrences\")\n",
    "df_row.plot(kind='bar')"
   ]
  },
  {
   "cell_type": "code",
   "execution_count": 14,
   "metadata": {},
   "outputs": [
    {
     "name": "stdout",
     "output_type": "stream",
     "text": [
      "(27278, 3)\n"
     ]
    },
    {
     "data": {
      "text/html": [
       "<div>\n",
       "<style>\n",
       "    .dataframe thead tr:only-child th {\n",
       "        text-align: right;\n",
       "    }\n",
       "\n",
       "    .dataframe thead th {\n",
       "        text-align: left;\n",
       "    }\n",
       "\n",
       "    .dataframe tbody tr th {\n",
       "        vertical-align: top;\n",
       "    }\n",
       "</style>\n",
       "<table border=\"1\" class=\"dataframe\">\n",
       "  <thead>\n",
       "    <tr style=\"text-align: right;\">\n",
       "      <th></th>\n",
       "      <th>movieId</th>\n",
       "      <th>imdbId</th>\n",
       "      <th>tmdbId</th>\n",
       "    </tr>\n",
       "  </thead>\n",
       "  <tbody>\n",
       "    <tr>\n",
       "      <th>0</th>\n",
       "      <td>1</td>\n",
       "      <td>114709</td>\n",
       "      <td>862.0</td>\n",
       "    </tr>\n",
       "    <tr>\n",
       "      <th>1</th>\n",
       "      <td>2</td>\n",
       "      <td>113497</td>\n",
       "      <td>8844.0</td>\n",
       "    </tr>\n",
       "    <tr>\n",
       "      <th>2</th>\n",
       "      <td>3</td>\n",
       "      <td>113228</td>\n",
       "      <td>15602.0</td>\n",
       "    </tr>\n",
       "    <tr>\n",
       "      <th>3</th>\n",
       "      <td>4</td>\n",
       "      <td>114885</td>\n",
       "      <td>31357.0</td>\n",
       "    </tr>\n",
       "    <tr>\n",
       "      <th>4</th>\n",
       "      <td>5</td>\n",
       "      <td>113041</td>\n",
       "      <td>11862.0</td>\n",
       "    </tr>\n",
       "  </tbody>\n",
       "</table>\n",
       "</div>"
      ],
      "text/plain": [
       "   movieId  imdbId   tmdbId\n",
       "0        1  114709    862.0\n",
       "1        2  113497   8844.0\n",
       "2        3  113228  15602.0\n",
       "3        4  114885  31357.0\n",
       "4        5  113041  11862.0"
      ]
     },
     "execution_count": 14,
     "metadata": {},
     "output_type": "execute_result"
    }
   ],
   "source": [
    "links = pd.read_csv('ml-20m/links.csv')\n",
    "print(links.shape)\n",
    "links.head()"
   ]
  },
  {
   "cell_type": "markdown",
   "metadata": {},
   "source": [
    "The **links** dataframe has 27278 rows and three columns labeled **movieId**, **imdbId** and **tmdbId**."
   ]
  },
  {
   "cell_type": "code",
   "execution_count": 52,
   "metadata": {},
   "outputs": [
    {
     "name": "stdout",
     "output_type": "stream",
     "text": [
      "(1128, 2)\n"
     ]
    },
    {
     "data": {
      "text/html": [
       "<div>\n",
       "<style>\n",
       "    .dataframe thead tr:only-child th {\n",
       "        text-align: right;\n",
       "    }\n",
       "\n",
       "    .dataframe thead th {\n",
       "        text-align: left;\n",
       "    }\n",
       "\n",
       "    .dataframe tbody tr th {\n",
       "        vertical-align: top;\n",
       "    }\n",
       "</style>\n",
       "<table border=\"1\" class=\"dataframe\">\n",
       "  <thead>\n",
       "    <tr style=\"text-align: right;\">\n",
       "      <th></th>\n",
       "      <th>tagId</th>\n",
       "      <th>tag</th>\n",
       "    </tr>\n",
       "  </thead>\n",
       "  <tbody>\n",
       "    <tr>\n",
       "      <th>0</th>\n",
       "      <td>1</td>\n",
       "      <td>007</td>\n",
       "    </tr>\n",
       "    <tr>\n",
       "      <th>1</th>\n",
       "      <td>2</td>\n",
       "      <td>007 (series)</td>\n",
       "    </tr>\n",
       "    <tr>\n",
       "      <th>2</th>\n",
       "      <td>3</td>\n",
       "      <td>18th century</td>\n",
       "    </tr>\n",
       "    <tr>\n",
       "      <th>3</th>\n",
       "      <td>4</td>\n",
       "      <td>1920s</td>\n",
       "    </tr>\n",
       "    <tr>\n",
       "      <th>4</th>\n",
       "      <td>5</td>\n",
       "      <td>1930s</td>\n",
       "    </tr>\n",
       "  </tbody>\n",
       "</table>\n",
       "</div>"
      ],
      "text/plain": [
       "   tagId           tag\n",
       "0      1           007\n",
       "1      2  007 (series)\n",
       "2      3  18th century\n",
       "3      4         1920s\n",
       "4      5         1930s"
      ]
     },
     "execution_count": 52,
     "metadata": {},
     "output_type": "execute_result"
    }
   ],
   "source": [
    "genome_tags = pd.read_csv('ml-20m/genome-tags.csv')\n",
    "print(genome_tags.shape)\n",
    "genome_tags.head()"
   ]
  },
  {
   "cell_type": "markdown",
   "metadata": {
    "collapsed": true
   },
   "source": [
    "The **genome_tags** dataframe has 20000263 rows and two columns labeled tagId, imdbId and tag."
   ]
  },
  {
   "cell_type": "code",
   "execution_count": 53,
   "metadata": {},
   "outputs": [
    {
     "name": "stdout",
     "output_type": "stream",
     "text": [
      "(11709768, 3)\n"
     ]
    },
    {
     "data": {
      "text/html": [
       "<div>\n",
       "<style>\n",
       "    .dataframe thead tr:only-child th {\n",
       "        text-align: right;\n",
       "    }\n",
       "\n",
       "    .dataframe thead th {\n",
       "        text-align: left;\n",
       "    }\n",
       "\n",
       "    .dataframe tbody tr th {\n",
       "        vertical-align: top;\n",
       "    }\n",
       "</style>\n",
       "<table border=\"1\" class=\"dataframe\">\n",
       "  <thead>\n",
       "    <tr style=\"text-align: right;\">\n",
       "      <th></th>\n",
       "      <th>movieId</th>\n",
       "      <th>tagId</th>\n",
       "      <th>relevance</th>\n",
       "    </tr>\n",
       "  </thead>\n",
       "  <tbody>\n",
       "    <tr>\n",
       "      <th>0</th>\n",
       "      <td>1</td>\n",
       "      <td>1</td>\n",
       "      <td>0.02500</td>\n",
       "    </tr>\n",
       "    <tr>\n",
       "      <th>1</th>\n",
       "      <td>1</td>\n",
       "      <td>2</td>\n",
       "      <td>0.02500</td>\n",
       "    </tr>\n",
       "    <tr>\n",
       "      <th>2</th>\n",
       "      <td>1</td>\n",
       "      <td>3</td>\n",
       "      <td>0.05775</td>\n",
       "    </tr>\n",
       "    <tr>\n",
       "      <th>3</th>\n",
       "      <td>1</td>\n",
       "      <td>4</td>\n",
       "      <td>0.09675</td>\n",
       "    </tr>\n",
       "    <tr>\n",
       "      <th>4</th>\n",
       "      <td>1</td>\n",
       "      <td>5</td>\n",
       "      <td>0.14675</td>\n",
       "    </tr>\n",
       "  </tbody>\n",
       "</table>\n",
       "</div>"
      ],
      "text/plain": [
       "   movieId  tagId  relevance\n",
       "0        1      1    0.02500\n",
       "1        1      2    0.02500\n",
       "2        1      3    0.05775\n",
       "3        1      4    0.09675\n",
       "4        1      5    0.14675"
      ]
     },
     "execution_count": 53,
     "metadata": {},
     "output_type": "execute_result"
    }
   ],
   "source": [
    "genome_scores = pd.read_csv('ml-20m/genome-scores.csv', engine='python')\n",
    "print(genome_scores.shape)\n",
    "genome_scores.head()"
   ]
  },
  {
   "cell_type": "markdown",
   "metadata": {
    "collapsed": true
   },
   "source": [
    "The **genome_score** dataframe has 11709768 rows and three columns labeled **movieId**, **tagId** and **relevance**."
   ]
  },
  {
   "cell_type": "markdown",
   "metadata": {},
   "source": [
    "## 2. Developing a Movie Recomendation System"
   ]
  },
  {
   "cell_type": "markdown",
   "metadata": {},
   "source": [
    "Recommender systems can predict both user preference and the rating of an item. In this asignment, we have to find only the preference of a given user. The two most common approaches to this problem are content based filtering, which uses information about the product, and collaborative filtering, which uses user generated data. \n",
    "Based on a comparative study by A. K. Sujatha of four different models for building a movie recommendation system (https://datatoanalytics.wordpress.com/2016/12/07/recommender-system-a-comparative-study/), we chose to use the collaborative filtering approach together with the Stochastic gradient descent algorithm in order to develop a movie recommendation system."
   ]
  },
  {
   "cell_type": "code",
   "execution_count": 80,
   "metadata": {
    "collapsed": true
   },
   "outputs": [],
   "source": []
  },
  {
   "cell_type": "markdown",
   "metadata": {},
   "source": [
    "Out of the six csv files we loaded as dataframes, we will only use two, **movies** and **ratings**. In order to avoid a MemoryError, we slice the **ratings** dataframe, using only the first 100 000 rows. Depending on the hardware used to run this notebook, this number can be increased or decreased. Since the **ratings** dataframe is sorted according to the userId, we chose to use the first 100 000 rows instead of, for example, keeping every two-hundreth row. Our assumption was that it is more informative to have more ratings on a smaller number of users than smaller numbers of ratings per user on a larger subset of users. We will test this assumption later in the notebook."
   ]
  },
  {
   "cell_type": "code",
   "execution_count": 64,
   "metadata": {},
   "outputs": [
    {
     "name": "stdout",
     "output_type": "stream",
     "text": [
      "(100000, 4)\n"
     ]
    }
   ],
   "source": [
    "ratings = ratings.iloc[:100000,:]\n",
    "print(ratings.shape)"
   ]
  },
  {
   "cell_type": "markdown",
   "metadata": {
    "collapsed": true
   },
   "source": [
    "Since we reduced the number of rows in the **ratings** dataframe, we also reduce the number of rows in the  **movies** dataframe, keeping only those rated in the 100000 version row of the **ratings** dataframe. "
   ]
  },
  {
   "cell_type": "code",
   "execution_count": 65,
   "metadata": {
    "collapsed": true
   },
   "outputs": [],
   "source": [
    "rated_movies_list = list(set(ratings.movieId.tolist()))\n",
    "rated_movies_df = movies[movies['movieId'].isin(rated_movies_list)]"
   ]
  },
  {
   "cell_type": "markdown",
   "metadata": {
    "collapsed": true
   },
   "source": [
    "We sort the **ratings** dateframe according to **movieId** instead of **userId**."
   ]
  },
  {
   "cell_type": "code",
   "execution_count": 66,
   "metadata": {},
   "outputs": [
    {
     "data": {
      "text/html": [
       "<div>\n",
       "<style>\n",
       "    .dataframe thead tr:only-child th {\n",
       "        text-align: right;\n",
       "    }\n",
       "\n",
       "    .dataframe thead th {\n",
       "        text-align: left;\n",
       "    }\n",
       "\n",
       "    .dataframe tbody tr th {\n",
       "        vertical-align: top;\n",
       "    }\n",
       "</style>\n",
       "<table border=\"1\" class=\"dataframe\">\n",
       "  <thead>\n",
       "    <tr style=\"text-align: right;\">\n",
       "      <th></th>\n",
       "      <th>userId</th>\n",
       "      <th>movieId</th>\n",
       "      <th>rating</th>\n",
       "      <th>timestamp</th>\n",
       "    </tr>\n",
       "  </thead>\n",
       "  <tbody>\n",
       "    <tr>\n",
       "      <th>89704</th>\n",
       "      <td>631</td>\n",
       "      <td>119141</td>\n",
       "      <td>3.0</td>\n",
       "      <td>1426930836</td>\n",
       "    </tr>\n",
       "    <tr>\n",
       "      <th>98732</th>\n",
       "      <td>692</td>\n",
       "      <td>125916</td>\n",
       "      <td>0.5</td>\n",
       "      <td>1424303273</td>\n",
       "    </tr>\n",
       "    <tr>\n",
       "      <th>3779</th>\n",
       "      <td>31</td>\n",
       "      <td>125916</td>\n",
       "      <td>0.5</td>\n",
       "      <td>1424733607</td>\n",
       "    </tr>\n",
       "    <tr>\n",
       "      <th>36851</th>\n",
       "      <td>284</td>\n",
       "      <td>128488</td>\n",
       "      <td>3.0</td>\n",
       "      <td>1424885756</td>\n",
       "    </tr>\n",
       "    <tr>\n",
       "      <th>98733</th>\n",
       "      <td>692</td>\n",
       "      <td>128594</td>\n",
       "      <td>0.5</td>\n",
       "      <td>1424303283</td>\n",
       "    </tr>\n",
       "  </tbody>\n",
       "</table>\n",
       "</div>"
      ],
      "text/plain": [
       "       userId  movieId  rating   timestamp\n",
       "89704     631   119141     3.0  1426930836\n",
       "98732     692   125916     0.5  1424303273\n",
       "3779       31   125916     0.5  1424733607\n",
       "36851     284   128488     3.0  1424885756\n",
       "98733     692   128594     0.5  1424303283"
      ]
     },
     "execution_count": 66,
     "metadata": {},
     "output_type": "execute_result"
    }
   ],
   "source": [
    "ratings_resorted = ratings.sort_values(\"movieId\")\n",
    "ratings_resorted.tail()"
   ]
  },
  {
   "cell_type": "markdown",
   "metadata": {
    "collapsed": true
   },
   "source": [
    "In order to avoid a future IndexError, we replace the movieId column of the **ratings_resorted** dataframe with a list of sequental numbers starting with zero."
   ]
  },
  {
   "cell_type": "code",
   "execution_count": 67,
   "metadata": {},
   "outputs": [
    {
     "data": {
      "text/html": [
       "<div>\n",
       "<style>\n",
       "    .dataframe thead tr:only-child th {\n",
       "        text-align: right;\n",
       "    }\n",
       "\n",
       "    .dataframe thead th {\n",
       "        text-align: left;\n",
       "    }\n",
       "\n",
       "    .dataframe tbody tr th {\n",
       "        vertical-align: top;\n",
       "    }\n",
       "</style>\n",
       "<table border=\"1\" class=\"dataframe\">\n",
       "  <thead>\n",
       "    <tr style=\"text-align: right;\">\n",
       "      <th></th>\n",
       "      <th>userId</th>\n",
       "      <th>movieId</th>\n",
       "      <th>rating</th>\n",
       "      <th>timestamp</th>\n",
       "    </tr>\n",
       "  </thead>\n",
       "  <tbody>\n",
       "    <tr>\n",
       "      <th>89704</th>\n",
       "      <td>631</td>\n",
       "      <td>8223</td>\n",
       "      <td>3.0</td>\n",
       "      <td>1426930836</td>\n",
       "    </tr>\n",
       "    <tr>\n",
       "      <th>98732</th>\n",
       "      <td>692</td>\n",
       "      <td>8224</td>\n",
       "      <td>0.5</td>\n",
       "      <td>1424303273</td>\n",
       "    </tr>\n",
       "    <tr>\n",
       "      <th>3779</th>\n",
       "      <td>31</td>\n",
       "      <td>8224</td>\n",
       "      <td>0.5</td>\n",
       "      <td>1424733607</td>\n",
       "    </tr>\n",
       "    <tr>\n",
       "      <th>36851</th>\n",
       "      <td>284</td>\n",
       "      <td>8225</td>\n",
       "      <td>3.0</td>\n",
       "      <td>1424885756</td>\n",
       "    </tr>\n",
       "    <tr>\n",
       "      <th>98733</th>\n",
       "      <td>692</td>\n",
       "      <td>8226</td>\n",
       "      <td>0.5</td>\n",
       "      <td>1424303283</td>\n",
       "    </tr>\n",
       "  </tbody>\n",
       "</table>\n",
       "</div>"
      ],
      "text/plain": [
       "       userId  movieId  rating   timestamp\n",
       "89704     631     8223     3.0  1426930836\n",
       "98732     692     8224     0.5  1424303273\n",
       "3779       31     8224     0.5  1424733607\n",
       "36851     284     8225     3.0  1424885756\n",
       "98733     692     8226     0.5  1424303283"
      ]
     },
     "execution_count": 67,
     "metadata": {},
     "output_type": "execute_result"
    }
   ],
   "source": [
    "movieId_list_unique = sorted(list(set(ratings_resorted[\"movieId\"].tolist())), key=int)\n",
    "num_of_ratings = list(range(0, ratings_resorted.shape[0]))\n",
    "movieId_dict = dict(zip(movieId_list_unique, num_of_ratings))\n",
    "movieId_list = ratings_resorted[\"movieId\"].tolist()\n",
    "new_movieId_list = []\n",
    "counter = 0\n",
    "placeholder = 1\n",
    "\n",
    "for item in movieId_list:\n",
    "    if item == placeholder:\n",
    "        new_movieId_list.append(counter)\n",
    "    else:\n",
    "        counter += 1\n",
    "        new_movieId_list.append(counter)\n",
    "        placeholder = item\n",
    "        \n",
    "ratings_resorted[\"movieId\"] = new_movieId_list\n",
    "ratings_resorted.tail()"
   ]
  },
  {
   "cell_type": "markdown",
   "metadata": {},
   "source": [
    "We remap the movieId in the **rated_movies_df** dataframe. "
   ]
  },
  {
   "cell_type": "code",
   "execution_count": 68,
   "metadata": {},
   "outputs": [
    {
     "data": {
      "text/html": [
       "<div>\n",
       "<style>\n",
       "    .dataframe thead tr:only-child th {\n",
       "        text-align: right;\n",
       "    }\n",
       "\n",
       "    .dataframe thead th {\n",
       "        text-align: left;\n",
       "    }\n",
       "\n",
       "    .dataframe tbody tr th {\n",
       "        vertical-align: top;\n",
       "    }\n",
       "</style>\n",
       "<table border=\"1\" class=\"dataframe\">\n",
       "  <thead>\n",
       "    <tr style=\"text-align: right;\">\n",
       "      <th></th>\n",
       "      <th>movieId</th>\n",
       "      <th>title</th>\n",
       "      <th>Action</th>\n",
       "      <th>Adventure</th>\n",
       "      <th>Animation</th>\n",
       "      <th>Children</th>\n",
       "      <th>Comedy</th>\n",
       "      <th>Crime</th>\n",
       "      <th>Documentary</th>\n",
       "      <th>Drama</th>\n",
       "      <th>...</th>\n",
       "      <th>Film-Noir</th>\n",
       "      <th>Horror</th>\n",
       "      <th>IMAX</th>\n",
       "      <th>Musical</th>\n",
       "      <th>Mystery</th>\n",
       "      <th>Romance</th>\n",
       "      <th>Sci-Fi</th>\n",
       "      <th>Thriller</th>\n",
       "      <th>War</th>\n",
       "      <th>Western</th>\n",
       "    </tr>\n",
       "  </thead>\n",
       "  <tbody>\n",
       "    <tr>\n",
       "      <th>25222</th>\n",
       "      <td>8222</td>\n",
       "      <td>Into the Woods (2014)</td>\n",
       "      <td>0.0</td>\n",
       "      <td>0.0</td>\n",
       "      <td>0.0</td>\n",
       "      <td>1.0</td>\n",
       "      <td>1.0</td>\n",
       "      <td>0.0</td>\n",
       "      <td>0.0</td>\n",
       "      <td>0.0</td>\n",
       "      <td>...</td>\n",
       "      <td>0.0</td>\n",
       "      <td>0.0</td>\n",
       "      <td>0.0</td>\n",
       "      <td>1.0</td>\n",
       "      <td>0.0</td>\n",
       "      <td>0.0</td>\n",
       "      <td>0.0</td>\n",
       "      <td>0.0</td>\n",
       "      <td>0.0</td>\n",
       "      <td>0.0</td>\n",
       "    </tr>\n",
       "    <tr>\n",
       "      <th>25253</th>\n",
       "      <td>8223</td>\n",
       "      <td>The Interview (2014)</td>\n",
       "      <td>1.0</td>\n",
       "      <td>0.0</td>\n",
       "      <td>0.0</td>\n",
       "      <td>0.0</td>\n",
       "      <td>1.0</td>\n",
       "      <td>0.0</td>\n",
       "      <td>0.0</td>\n",
       "      <td>0.0</td>\n",
       "      <td>...</td>\n",
       "      <td>0.0</td>\n",
       "      <td>0.0</td>\n",
       "      <td>0.0</td>\n",
       "      <td>0.0</td>\n",
       "      <td>0.0</td>\n",
       "      <td>0.0</td>\n",
       "      <td>0.0</td>\n",
       "      <td>0.0</td>\n",
       "      <td>0.0</td>\n",
       "      <td>0.0</td>\n",
       "    </tr>\n",
       "    <tr>\n",
       "      <th>26159</th>\n",
       "      <td>8224</td>\n",
       "      <td>Fifty Shades of Grey (2015)</td>\n",
       "      <td>0.0</td>\n",
       "      <td>0.0</td>\n",
       "      <td>0.0</td>\n",
       "      <td>0.0</td>\n",
       "      <td>0.0</td>\n",
       "      <td>0.0</td>\n",
       "      <td>0.0</td>\n",
       "      <td>1.0</td>\n",
       "      <td>...</td>\n",
       "      <td>0.0</td>\n",
       "      <td>0.0</td>\n",
       "      <td>0.0</td>\n",
       "      <td>0.0</td>\n",
       "      <td>0.0</td>\n",
       "      <td>0.0</td>\n",
       "      <td>0.0</td>\n",
       "      <td>0.0</td>\n",
       "      <td>0.0</td>\n",
       "      <td>0.0</td>\n",
       "    </tr>\n",
       "    <tr>\n",
       "      <th>26701</th>\n",
       "      <td>8225</td>\n",
       "      <td>Wild Card (2015)</td>\n",
       "      <td>0.0</td>\n",
       "      <td>0.0</td>\n",
       "      <td>0.0</td>\n",
       "      <td>0.0</td>\n",
       "      <td>0.0</td>\n",
       "      <td>1.0</td>\n",
       "      <td>0.0</td>\n",
       "      <td>1.0</td>\n",
       "      <td>...</td>\n",
       "      <td>0.0</td>\n",
       "      <td>0.0</td>\n",
       "      <td>0.0</td>\n",
       "      <td>0.0</td>\n",
       "      <td>0.0</td>\n",
       "      <td>0.0</td>\n",
       "      <td>0.0</td>\n",
       "      <td>1.0</td>\n",
       "      <td>0.0</td>\n",
       "      <td>0.0</td>\n",
       "    </tr>\n",
       "    <tr>\n",
       "      <th>26741</th>\n",
       "      <td>8226</td>\n",
       "      <td>Boy Meets Girl (2015)</td>\n",
       "      <td>0.0</td>\n",
       "      <td>0.0</td>\n",
       "      <td>0.0</td>\n",
       "      <td>0.0</td>\n",
       "      <td>1.0</td>\n",
       "      <td>0.0</td>\n",
       "      <td>0.0</td>\n",
       "      <td>1.0</td>\n",
       "      <td>...</td>\n",
       "      <td>0.0</td>\n",
       "      <td>0.0</td>\n",
       "      <td>0.0</td>\n",
       "      <td>0.0</td>\n",
       "      <td>0.0</td>\n",
       "      <td>1.0</td>\n",
       "      <td>0.0</td>\n",
       "      <td>0.0</td>\n",
       "      <td>0.0</td>\n",
       "      <td>0.0</td>\n",
       "    </tr>\n",
       "  </tbody>\n",
       "</table>\n",
       "<p>5 rows × 21 columns</p>\n",
       "</div>"
      ],
      "text/plain": [
       "       movieId                        title  Action  Adventure  Animation  \\\n",
       "25222     8222        Into the Woods (2014)     0.0        0.0        0.0   \n",
       "25253     8223         The Interview (2014)     1.0        0.0        0.0   \n",
       "26159     8224  Fifty Shades of Grey (2015)     0.0        0.0        0.0   \n",
       "26701     8225             Wild Card (2015)     0.0        0.0        0.0   \n",
       "26741     8226        Boy Meets Girl (2015)     0.0        0.0        0.0   \n",
       "\n",
       "       Children  Comedy  Crime  Documentary  Drama   ...     Film-Noir  \\\n",
       "25222       1.0     1.0    0.0          0.0    0.0   ...           0.0   \n",
       "25253       0.0     1.0    0.0          0.0    0.0   ...           0.0   \n",
       "26159       0.0     0.0    0.0          0.0    1.0   ...           0.0   \n",
       "26701       0.0     0.0    1.0          0.0    1.0   ...           0.0   \n",
       "26741       0.0     1.0    0.0          0.0    1.0   ...           0.0   \n",
       "\n",
       "       Horror  IMAX  Musical  Mystery  Romance  Sci-Fi  Thriller  War  Western  \n",
       "25222     0.0   0.0      1.0      0.0      0.0     0.0       0.0  0.0      0.0  \n",
       "25253     0.0   0.0      0.0      0.0      0.0     0.0       0.0  0.0      0.0  \n",
       "26159     0.0   0.0      0.0      0.0      0.0     0.0       0.0  0.0      0.0  \n",
       "26701     0.0   0.0      0.0      0.0      0.0     0.0       1.0  0.0      0.0  \n",
       "26741     0.0   0.0      0.0      0.0      1.0     0.0       0.0  0.0      0.0  \n",
       "\n",
       "[5 rows x 21 columns]"
      ]
     },
     "execution_count": 68,
     "metadata": {},
     "output_type": "execute_result"
    }
   ],
   "source": [
    "rated_movies_df[\"movieId\"] = rated_movies_df.movieId.map(movieId_dict)\n",
    "rated_movies_df.tail()"
   ]
  },
  {
   "cell_type": "markdown",
   "metadata": {},
   "source": [
    "We resort the **ratings** dataframe by userId, returning it to its original state."
   ]
  },
  {
   "cell_type": "code",
   "execution_count": 69,
   "metadata": {
    "collapsed": true
   },
   "outputs": [],
   "source": [
    "ratings = ratings_resorted.sort_values(\"userId\")"
   ]
  },
  {
   "cell_type": "markdown",
   "metadata": {},
   "source": [
    "We define several functions which will be used later on."
   ]
  },
  {
   "cell_type": "code",
   "execution_count": 70,
   "metadata": {
    "collapsed": true
   },
   "outputs": [],
   "source": [
    "def rmse(prediction, ground_truth):\n",
    "    prediction = prediction[ground_truth.nonzero()].flatten()\n",
    "    ground_truth = ground_truth[ground_truth.nonzero()].flatten()\n",
    "    return sqrt(mean_squared_error(prediction, ground_truth))\n",
    " \n",
    "def top_k_movies_byuser(prediction, mapper, user_idx, k=6):\n",
    "    return [mapper[x] for x in np.argsort(prediction[user_idx,np.where(train_data_matrix[user_idx, :] == 0)[0]])[:-k-1:-1]]\n",
    "\n",
    "def predict(P,Q):\n",
    "    return np.dot(P.T,Q)"
   ]
  },
  {
   "cell_type": "markdown",
   "metadata": {},
   "source": [
    "We split the data into train and test data using scikit-learn. We create two user-item matrices, **train_data_matrix** and **test_data_matrix**. "
   ]
  },
  {
   "cell_type": "code",
   "execution_count": 81,
   "metadata": {
    "collapsed": true
   },
   "outputs": [],
   "source": [
    "trainRMSE = []\n",
    "testRMSE = []\n",
    "\n",
    "n_users = ratings.userId.unique().shape[0]\n",
    "n_items = ratings.movieId.unique().shape[0]\n",
    "\n",
    "train_data, test_data = train_test_split(ratings, test_size=0.25)\n",
    "\n",
    "train_data_matrix = np.zeros((n_users, n_items))\n",
    "for line in train_data.itertuples():\n",
    "    train_data_matrix[line[1]-1, line[2]-1] = line[3]\n",
    "    \n",
    "test_data_matrix = np.zeros((n_users, n_items))\n",
    "for line in test_data.itertuples():\n",
    "    test_data_matrix[line[1]-1, line[2]-1] = line[3]"
   ]
  },
  {
   "cell_type": "markdown",
   "metadata": {
    "collapsed": true
   },
   "source": [
    "We define parameters such as **iterations** and **gamma**, as well as **user_idx**, i.e. the user from the **ratings** dataframe, who will receive recommendations based on movies he or she has previously rated. "
   ]
  },
  {
   "cell_type": "code",
   "execution_count": 82,
   "metadata": {
    "collapsed": true
   },
   "outputs": [],
   "source": [
    "idx_to_movie = {}\n",
    "for index, row in rated_movies_df.iterrows():\n",
    "    idx_to_movie[int(row[\"movieId\"])] = row[\"title\"]\n",
    "    \n",
    "user_idx = 16\n",
    "\n",
    "lmbda = 0.1\n",
    "k = 20\n",
    "m, n = train_data_matrix.shape\n",
    "iterations = 100\n",
    "gamma = 0.01"
   ]
  },
  {
   "cell_type": "markdown",
   "metadata": {
    "collapsed": true
   },
   "source": [
    "We generate several movie recommendations for the user with a **user_idx** value of 16."
   ]
  },
  {
   "cell_type": "code",
   "execution_count": 83,
   "metadata": {},
   "outputs": [
    {
     "name": "stdout",
     "output_type": "stream",
     "text": [
      "Movies recommended to user 16 are:\n",
      "['Return to Snowy River (a.k.a. The Man From Snowy River II) (1988)', 'House I Live In, The (2012)', 'Next Three Days, The (2010)', 'Midnight in Paris (2011)', 'Beijing Taxi (2010)', 'Darkest Hour, The (2011)']\n",
      "\n"
     ]
    }
   ],
   "source": [
    "user_feature = 3 * np.random.rand(k,m)\n",
    "movie_feature = 3 * np.random.rand(k,n)\n",
    "train_errors = []\n",
    "test_errors = []\n",
    " \n",
    "users,items = train_data_matrix.nonzero()\n",
    "for iter in range(iterations):\n",
    "    for u, i in zip(users,items):\n",
    "        e = train_data_matrix[u, i] - predict(user_feature[:,u],movie_feature[:,i])  # Calculate error for gradient\n",
    "        user_feature[:,u] += gamma * ( e * movie_feature[:,i] - lmbda * user_feature[:,u]) # Update latent user feature matrix\n",
    "        movie_feature[:,i] += gamma * ( e * user_feature[:,u] - lmbda * movie_feature[:,i])  # Update latent movie feature matrix\n",
    "        \n",
    "    pred = predict(user_feature, movie_feature)\n",
    "    train_rmse = rmse(pred, train_data_matrix)\n",
    "    test_rmse = rmse(pred, test_data_matrix)\n",
    "    train_errors.append(train_rmse)\n",
    "    test_errors.append(test_rmse)\n",
    "    \n",
    "pred = predict(user_feature, movie_feature)\n",
    "sgdBasedTrainRMSE = rmse(pred, train_data_matrix)\n",
    "sgdBasedTestRMSE = rmse(pred, test_data_matrix)\n",
    "trainRMSE.append(sgdBasedTrainRMSE)\n",
    "testRMSE.append(sgdBasedTestRMSE)\n",
    " \n",
    "print(\"Movies recommended to user \" + str(user_idx) + \" are:\")\n",
    "nearestMovies = top_k_movies_byuser(pred, idx_to_movie, user_idx)\n",
    "print(str(nearestMovies) + \"\\n\")"
   ]
  },
  {
   "cell_type": "markdown",
   "metadata": {},
   "source": [
    "## 3. Evaluating the Movie Recommendation System"
   ]
  },
  {
   "cell_type": "markdown",
   "metadata": {},
   "source": [
    "In order to evaluate the Recommendation System, we print the already calculated  root-mean-squared-error using both the train data and the test data."
   ]
  },
  {
   "cell_type": "code",
   "execution_count": 84,
   "metadata": {},
   "outputs": [
    {
     "name": "stdout",
     "output_type": "stream",
     "text": [
      "User-based CF MSE on train data: 0.670865386434914\n",
      "User-based CF MSE on test data: 1.110280773452827\n",
      "\n"
     ]
    }
   ],
   "source": [
    "print('User-based CF MSE on train data: ' + str(sgdBasedTrainRMSE))\n",
    "print('User-based CF MSE on test data: ' + str(sgdBasedTestRMSE) + \"\\n\")"
   ]
  },
  {
   "cell_type": "markdown",
   "metadata": {},
   "source": [
    "We plot the **train_errors** list in order to see whether the number of epochs, i.e. the **iterators** variable, which was set to 100, was sufficiently large."
   ]
  },
  {
   "cell_type": "code",
   "execution_count": 75,
   "metadata": {},
   "outputs": [
    {
     "data": {
      "image/png": "[encoded data removed]",
      "text/plain": [
       "<matplotlib.figure.Figure at 0x17c08470>"
      ]
     },
     "metadata": {},
     "output_type": "display_data"
    }
   ],
   "source": [
    "plt.plot(train_errors)\n",
    "plt.title(\"Train errors\")\n",
    "plt.xlabel('epoch')\n",
    "plt.ylabel('root-mean-square-error')\n",
    "plt.show()"
   ]
  },
  {
   "cell_type": "markdown",
   "metadata": {},
   "source": [
    "The graph indicates that 100 epochs were beneficial to reducing the root-mean-square-error and that a larger **iterations** variable would not significantly reduce the root-mean-square-error. We also plot the **test_errors list**, which also indicated that a larger iterations variable is not necessary."
   ]
  },
  {
   "cell_type": "code",
   "execution_count": 76,
   "metadata": {},
   "outputs": [
    {
     "data": {
      "image/png": "[encoded data removed]",
      "text/plain": [
       "<matplotlib.figure.Figure at 0x1e94d710>"
      ]
     },
     "metadata": {},
     "output_type": "display_data"
    }
   ],
   "source": [
    "plt.plot(test_errors)\n",
    "plt.title(\"Test errors\")\n",
    "plt.xlabel('epoch')\n",
    "plt.ylabel('root-mean-square-error')\n",
    "plt.show()"
   ]
  },
  {
   "cell_type": "markdown",
   "metadata": {
    "collapsed": true
   },
   "source": [
    "We also compare the ratings with the user made with predicted ratings."
   ]
  },
  {
   "cell_type": "code",
   "execution_count": 77,
   "metadata": {},
   "outputs": [
    {
     "name": "stdout",
     "output_type": "stream",
     "text": [
      "   Actual Rating  Predicted Rating\n",
      "0            4.0          4.242121\n",
      "1            4.0          4.256108\n",
      "2            5.0          4.602589\n",
      "3            3.0          3.322800\n",
      "4            4.0          4.129472\n",
      "5            4.0          4.159597\n",
      "6            4.0          3.676924\n",
      "7            4.0          4.213819\n",
      "8            4.0          4.238010\n",
      "9            3.0          3.349633\n"
     ]
    }
   ],
   "source": [
    "ratings_compare = pd.DataFrame(columns = (\"Actual Rating\",\"Predicted Rating\"))\n",
    "ratings_compare[\"Actual Rating\"] = train_data_matrix[user_idx,np.where(train_data_matrix[user_idx, :] > 0)[0]][0:10]\n",
    "ratings_compare[\"Predicted Rating\"] = pred[user_idx,np.where(train_data_matrix[user_idx, :] > 0)[0]][0:10]\n",
    "print(ratings_compare)"
   ]
  },
  {
   "cell_type": "markdown",
   "metadata": {},
   "source": [
    "## 4. Additional Test cases"
   ]
  },
  {
   "cell_type": "markdown",
   "metadata": {},
   "source": [
    "We will consider the already executed code to be first test case (with gamma = 0.01). In the second test case, we will use a gamma roughly three times smaller (gamma = 0.0033). "
   ]
  },
  {
   "cell_type": "code",
   "execution_count": 78,
   "metadata": {
    "collapsed": true
   },
   "outputs": [],
   "source": [
    "gamma = 0.0033"
   ]
  },
  {
   "cell_type": "code",
   "execution_count": 216,
   "metadata": {},
   "outputs": [
    {
     "name": "stdout",
     "output_type": "stream",
     "text": [
      "Movies recommended to user 16 are:\n",
      "['Crush, The (1993)', 'Miss Firecracker (1989)', 'Stoned (2005)', 'Phenomenon (1996)', 'Bowling for Columbine (2002)', 'Twenty Bucks (1993)']\n",
      "\n",
      "User-based CF MSE on train data: 0.8201664522955026\n",
      "User-based CF MSE on test data: 1.1353523110612143\n",
      "\n"
     ]
    }
   ],
   "source": [
    "user_feature = 3 * np.random.rand(k,m)\n",
    "movie_feature = 3 * np.random.rand(k,n)\n",
    "train_errors = []\n",
    "test_errors = []\n",
    " \n",
    "users,items = train_data_matrix.nonzero()\n",
    "for iter in range(iterations):\n",
    "    for u, i in zip(users,items):\n",
    "        e = train_data_matrix[u, i] - predict(user_feature[:,u],movie_feature[:,i])  # Calculate error for gradient\n",
    "        user_feature[:,u] += gamma * ( e * movie_feature[:,i] - lmbda * user_feature[:,u]) # Update latent user feature matrix\n",
    "        movie_feature[:,i] += gamma * ( e * user_feature[:,u] - lmbda * movie_feature[:,i])  # Update latent movie feature matrix\n",
    "        \n",
    "    pred = predict(user_feature, movie_feature)\n",
    "    train_rmse = rmse(pred, train_data_matrix)\n",
    "    test_rmse = rmse(pred, test_data_matrix)\n",
    "    train_errors.append(train_rmse)\n",
    "    test_errors.append(test_rmse)\n",
    "    \n",
    "pred = predict(user_feature, movie_feature)\n",
    "sgdBasedTrainRMSE = rmse(pred, train_data_matrix)\n",
    "sgdBasedTestRMSE = rmse(pred, test_data_matrix)\n",
    "trainRMSE.append(sgdBasedTrainRMSE)\n",
    "testRMSE.append(sgdBasedTestRMSE)\n",
    " \n",
    "print(\"Movies recommended to user \" + str(user_idx) + \" are:\")\n",
    "nearestMovies = top_k_movies_byuser(pred, idx_to_movie, user_idx)\n",
    "print(str(nearestMovies) + \"\\n\")\n",
    "\n",
    "print('User-based CF MSE on train data: ' + str(sgdBasedTrainRMSE))\n",
    "print('User-based CF MSE on test data: ' + str(sgdBasedTestRMSE) + \"\\n\")"
   ]
  },
  {
   "cell_type": "markdown",
   "metadata": {},
   "source": [
    "The second test case with a smaller gamma resulted in a larger root-mean-square-error, which tells us it could be effective to try to use a larger gamma."
   ]
  },
  {
   "cell_type": "markdown",
   "metadata": {},
   "source": [
    "I intended to conduct the third test case using a gamma three times larger than the gamma in the first test case (gamma = 0.03), but an overflow error prevented me from doing that. Instead, in the third test case we will use a 300 000 row version of the ratings dataframe, instead of the 100 000 row version. "
   ]
  },
  {
   "cell_type": "code",
   "execution_count": 3,
   "metadata": {
    "collapsed": true
   },
   "outputs": [],
   "source": [
    "ratings = pd.read_csv('ml-20m/ratings.csv')\n",
    "movies = pd.read_csv('ml-20m/movies.csv')\n",
    "ratings = ratings.iloc[:300000,:]"
   ]
  },
  {
   "cell_type": "code",
   "execution_count": 4,
   "metadata": {},
   "outputs": [
    {
     "name": "stderr",
     "output_type": "stream",
     "text": [
      "C:\\ProgramData\\Anaconda3\\lib\\site-packages\\ipykernel_launcher.py:24: SettingWithCopyWarning: \n",
      "A value is trying to be set on a copy of a slice from a DataFrame.\n",
      "Try using .loc[row_indexer,col_indexer] = value instead\n",
      "\n",
      "See the caveats in the documentation: http://pandas.pydata.org/pandas-docs/stable/indexing.html#indexing-view-versus-copy\n"
     ]
    }
   ],
   "source": [
    "rated_movies_list = list(set(ratings.movieId.tolist()))\n",
    "rated_movies_df = movies[movies['movieId'].isin(rated_movies_list)]\n",
    "\n",
    "ratings_resorted = ratings.sort_values(\"movieId\")\n",
    "\n",
    "movieId_list_unique = sorted(list(set(ratings_resorted[\"movieId\"].tolist())), key=int)\n",
    "num_of_ratings = list(range(0, ratings_resorted.shape[0]))\n",
    "movieId_dict = dict(zip(movieId_list_unique, num_of_ratings))\n",
    "movieId_list = ratings_resorted[\"movieId\"].tolist()\n",
    "new_movieId_list = []\n",
    "counter = 0\n",
    "placeholder = 1\n",
    "\n",
    "for item in movieId_list:\n",
    "    if item == placeholder:\n",
    "        new_movieId_list.append(counter)\n",
    "    else:\n",
    "        counter += 1\n",
    "        new_movieId_list.append(counter)\n",
    "        placeholder = item\n",
    "        \n",
    "ratings_resorted[\"movieId\"] = new_movieId_list\n",
    "\n",
    "rated_movies_df[\"movieId\"] = rated_movies_df.movieId.map(movieId_dict)\n",
    "ratings = ratings_resorted.sort_values(\"userId\")"
   ]
  },
  {
   "cell_type": "code",
   "execution_count": 9,
   "metadata": {},
   "outputs": [
    {
     "name": "stdout",
     "output_type": "stream",
     "text": [
      "Movies recommended to user 16 are:\n",
      "['Jane Eyre (1970)', 'End of the Affair, The (1955)', 'Family, The (2013)', 'Departures (Okuribito) (2008)', 'Fathom (1967)', 'The Butterfly Effect (2004)']\n",
      "\n",
      "User-based CF MSE on train data: 0.7122709174806761\n",
      "User-based CF MSE on test data: 0.9597726613498079\n",
      "\n"
     ]
    }
   ],
   "source": [
    "trainRMSE = []\n",
    "testRMSE = []\n",
    "\n",
    "n_users = ratings.userId.unique().shape[0]\n",
    "n_items = ratings.movieId.unique().shape[0]\n",
    "\n",
    "train_data, test_data = train_test_split(ratings, test_size=0.25)\n",
    "\n",
    "train_data_matrix = np.zeros((n_users, n_items))\n",
    "for line in train_data.itertuples():\n",
    "    train_data_matrix[line[1]-1, line[2]-1] = line[3]\n",
    "    \n",
    "test_data_matrix = np.zeros((n_users, n_items))\n",
    "for line in test_data.itertuples():\n",
    "    test_data_matrix[line[1]-1, line[2]-1] = line[3]\n",
    "    \n",
    "idx_to_movie = {}\n",
    "for index, row in rated_movies_df.iterrows():\n",
    "    idx_to_movie[int(row[\"movieId\"])] = row[\"title\"]\n",
    "    \n",
    "user_idx = 16\n",
    "\n",
    "lmbda = 0.1\n",
    "k = 20\n",
    "m, n = train_data_matrix.shape  \n",
    "iterations = 100\n",
    "gamma = 0.01\n",
    "\n",
    "user_feature = 3 * np.random.rand(k, m)\n",
    "movie_feature = 3 * np.random.rand(k, n)\n",
    "train_errors = []\n",
    "test_errors = []\n",
    " \n",
    "users,items = train_data_matrix.nonzero()\n",
    "for iter in range(iterations):\n",
    "    for u, i in zip(users,items):\n",
    "        e = train_data_matrix[u, i] - predict(user_feature[:,u],movie_feature[:,i])  # Calculate error for gradient\n",
    "        user_feature[:,u] += gamma * (e * movie_feature[:,i] - lmbda * user_feature[:,u]) # Update latent user feature matrix\n",
    "        movie_feature[:,i] += gamma * (e * user_feature[:,u] - lmbda * movie_feature[:,i])  # Update latent movie feature matrix\n",
    "        \n",
    "    pred = predict(user_feature, movie_feature)\n",
    "    train_rmse = rmse(pred, train_data_matrix)\n",
    "    test_rmse = rmse(pred, test_data_matrix)\n",
    "    train_errors.append(train_rmse)\n",
    "    test_errors.append(test_rmse)\n",
    "    \n",
    "pred = predict(user_feature, movie_feature)\n",
    "sgdBasedTrainRMSE = rmse(pred, train_data_matrix)\n",
    "sgdBasedTestRMSE = rmse(pred, test_data_matrix)\n",
    "trainRMSE.append(sgdBasedTrainRMSE)\n",
    "testRMSE.append(sgdBasedTestRMSE)\n",
    " \n",
    "print(\"Movies recommended to user \" + str(user_idx) + \" are:\")\n",
    "nearestMovies = top_k_movies_byuser(pred, idx_to_movie, user_idx)\n",
    "print(str(nearestMovies) + \"\\n\")\n",
    "\n",
    "print('User-based CF MSE on train data: ' + str(sgdBasedTrainRMSE))\n",
    "print('User-based CF MSE on test data: ' + str(sgdBasedTestRMSE) + \"\\n\")"
   ]
  },
  {
   "cell_type": "markdown",
   "metadata": {},
   "source": [
    "The change in The User-based CF MSE on train data (0.712 compared to 0.676) and the User-based CF MSE on test data (0.960 compared to 1.118) from the first case indicates the root-mean-squared-error is a bit lower with a larger **ratings** dataframe.\n",
    "\n",
    "I also attempted to conduct test case with a 900 000 row version of the **ratings** dataframe, but a ValueError interrupted the calculation of the root-mean-square error of the training set. "
   ]
  },
  {
   "cell_type": "markdown",
   "metadata": {},
   "source": [
    "## 5. Conclusion"
   ]
  },
  {
   "cell_type": "markdown",
   "metadata": {},
   "source": [
    "We succesfully created a movie recommendation system based on the **MovieLens 20M** dataset. We considered several test cases using the stochastic gradient descent algorithm, most of which were successful. The results of the evaluation and additional test cases were satisfactory, indicating that the mean-root-square error from the first case was low enough and that the selected **gamma** and **iterations** values were satisfactory."
   ]
  }
 ],
 "metadata": {
  "kernelspec": {
   "display_name": "Python 3",
   "language": "python",
   "name": "python3"
  },
  "language_info": {
   "codemirror_mode": {
    "name": "ipython",
    "version": 3
   },
   "file_extension": ".py",
   "mimetype": "text/x-python",
   "name": "python",
   "nbconvert_exporter": "python",
   "pygments_lexer": "ipython3",
   "version": "3.6.1"
  }
 },
 "nbformat": 4,
 "nbformat_minor": 2
}
